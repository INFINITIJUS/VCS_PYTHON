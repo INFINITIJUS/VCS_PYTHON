{
 "cells": [
  {
   "cell_type": "code",
   "execution_count": 27,
   "source": [
    "#2\r\n",
    "skaicius1 = '1'\r\n",
    "skaicius2 = '5'\r\n",
    "suma = skaicius1 + skaicius2\r\n",
    "print (suma)"
   ],
   "outputs": [
    {
     "output_type": "stream",
     "name": "stdout",
     "text": [
      "15\n"
     ]
    }
   ],
   "metadata": {}
  },
  {
   "cell_type": "code",
   "execution_count": 32,
   "source": [
    "#3\r\n",
    "zodis = ('foo''bar', \"foo'bar\", \"\"\"foo'bar\"\"\", 'foo\\'bar')\r\n",
    "print (zodis)\r\n"
   ],
   "outputs": [
    {
     "output_type": "stream",
     "name": "stdout",
     "text": [
      "('foobar', \"foo'bar\", \"foo'bar\", \"foo'bar\")\n"
     ]
    }
   ],
   "metadata": {}
  },
  {
   "cell_type": "code",
   "execution_count": 20,
   "source": [
    "zodis = ('foo'bar')\r\n",
    "print (zodis)"
   ],
   "outputs": [
    {
     "output_type": "error",
     "ename": "SyntaxError",
     "evalue": "invalid syntax (Temp/ipykernel_5388/3600720161.py, line 1)",
     "traceback": [
      "\u001b[1;36m  File \u001b[1;32m\"C:\\Users\\KKNEZIUS\\AppData\\Local\\Temp/ipykernel_5388/3600720161.py\"\u001b[1;36m, line \u001b[1;32m1\u001b[0m\n\u001b[1;33m    zodis = ('foo'bar')\u001b[0m\n\u001b[1;37m                  ^\u001b[0m\n\u001b[1;31mSyntaxError\u001b[0m\u001b[1;31m:\u001b[0m invalid syntax\n"
     ]
    }
   ],
   "metadata": {}
  },
  {
   "cell_type": "code",
   "execution_count": 33,
   "source": [
    "#4\r\n",
    "True and not False and ( [] or bool(\" \") ) or \"word\".isdigit()"
   ],
   "outputs": [
    {
     "output_type": "execute_result",
     "data": {
      "text/plain": [
       "True"
      ]
     },
     "metadata": {},
     "execution_count": 33
    }
   ],
   "metadata": {}
  },
  {
   "cell_type": "code",
   "execution_count": 34,
   "source": [
    "#5 Kas bus išspausdinta?\r\n",
    "\r\n",
    "list_1 = [True, 1]\r\n",
    "list_2 = [\"5\", 3]\r\n",
    "list_1.append(list_2)\r\n",
    "print (list_1)"
   ],
   "outputs": [
    {
     "output_type": "stream",
     "name": "stdout",
     "text": [
      "[True, 1, ['5', 3]]\n"
     ]
    }
   ],
   "metadata": {}
  },
  {
   "cell_type": "code",
   "execution_count": 58,
   "source": [
    "#6 Kaip gauti [11, 12, 13] is b? (Naudojant Slicing)\r\n",
    "\r\n",
    "b = [1, 2, 3, 4, 5, 6, '7', 'astuoni', 9, [10, 11, 12, 13, 15]]\r\n",
    "print (b[9][1:4])"
   ],
   "outputs": [
    {
     "output_type": "stream",
     "name": "stdout",
     "text": [
      "[11, 12, 13]\n"
     ]
    }
   ],
   "metadata": {}
  },
  {
   "cell_type": "code",
   "execution_count": 23,
   "source": [
    "#7 \r\n",
    "skaicius = (1, 2, 3, 4, 6)\r\n",
    "print(skaicius[1:3])"
   ],
   "outputs": [
    {
     "output_type": "stream",
     "name": "stdout",
     "text": [
      "(2, 3)\n"
     ]
    }
   ],
   "metadata": {}
  },
  {
   "cell_type": "code",
   "execution_count": 25,
   "source": [
    "#8 \r\n",
    "prekes = [\"Batonas\", \"Bananai\", \"Sviestas\"]\r\n",
    "print (prekes.pop())"
   ],
   "outputs": [
    {
     "output_type": "stream",
     "name": "stdout",
     "text": [
      "Sviestas\n"
     ]
    }
   ],
   "metadata": {}
  },
  {
   "cell_type": "code",
   "execution_count": 26,
   "source": [
    "#9 \r\n",
    "list_1 = [1, 5, 4, 10]\r\n",
    "print (\"5\" in list_1)"
   ],
   "outputs": [
    {
     "output_type": "stream",
     "name": "stdout",
     "text": [
      "False\n"
     ]
    }
   ],
   "metadata": {}
  },
  {
   "cell_type": "code",
   "execution_count": 61,
   "source": [
    "#10\r\n",
    "\r\n",
    "a = {1, 2, 5}\r\n",
    "a.add(5)\r\n",
    "print(a)"
   ],
   "outputs": [
    {
     "output_type": "stream",
     "name": "stdout",
     "text": [
      "{1, 2, 5}\n"
     ]
    }
   ],
   "metadata": {}
  },
  {
   "cell_type": "code",
   "execution_count": 62,
   "source": [
    "#11\r\n",
    "\r\n",
    "list_a = [4, 5, 5, 6]\r\n",
    "list_b = [5, \"6\", 7, 8]\r\n",
    "set_a = set(list_a)\r\n",
    "set_b = set(list_b)\r\n",
    "print (set_a.intersection(set_b))"
   ],
   "outputs": [
    {
     "output_type": "stream",
     "name": "stdout",
     "text": [
      "{5}\n"
     ]
    }
   ],
   "metadata": {}
  },
  {
   "cell_type": "code",
   "execution_count": 63,
   "source": [
    "#12\r\n",
    "\r\n",
    "dict_1 = {\"verte\": 100, \"1\": 50, 1: 23}\r\n",
    "print (dict_1[1])"
   ],
   "outputs": [
    {
     "output_type": "stream",
     "name": "stdout",
     "text": [
      "23\n"
     ]
    }
   ],
   "metadata": {}
  },
  {
   "cell_type": "code",
   "execution_count": 64,
   "source": [
    "#13\r\n",
    "\r\n",
    "vardas = \"Benas\"\r\n",
    "if vardas == \"Jonas\":\r\n",
    "    print(\"Sveikas, Jonai!\")\r\n",
    "elif vardas == \"Karolis\":\r\n",
    "    print(\"Sveikas Karoli!\")\r\n",
    "elif vardas:\r\n",
    "    print(\"Sveikas, nepažįstamasai!\")\r\n",
    "else:\r\n",
    "    print(\"Pakartokite vardą!\")\r\n"
   ],
   "outputs": [
    {
     "output_type": "stream",
     "name": "stdout",
     "text": [
      "Sveikas, nepažįstamasai!\n"
     ]
    }
   ],
   "metadata": {}
  },
  {
   "cell_type": "code",
   "execution_count": 65,
   "source": [
    "#14\r\n",
    "\r\n",
    "x = 5\r\n",
    "for i in range(1,10):\r\n",
    "    x += 1\r\n",
    "print (x)"
   ],
   "outputs": [
    {
     "output_type": "stream",
     "name": "stdout",
     "text": [
      "14\n"
     ]
    }
   ],
   "metadata": {}
  },
  {
   "cell_type": "code",
   "execution_count": 66,
   "source": [
    "#15\r\n",
    "\r\n",
    "d = {'foo': 1, 'bar': 2, 'baz': 3}\r\n",
    "while d:\r\n",
    "    print(d.popitem())\r\n",
    "print('Done.')"
   ],
   "outputs": [
    {
     "output_type": "stream",
     "name": "stdout",
     "text": [
      "('baz', 3)\n",
      "('bar', 2)\n",
      "('foo', 1)\n",
      "Done.\n"
     ]
    }
   ],
   "metadata": {}
  },
  {
   "cell_type": "code",
   "execution_count": 68,
   "source": [
    "#16\r\n",
    "\r\n",
    "getsum(11,10)\r\n",
    "def getsum(x, y):\r\n",
    "    print(f'{x+y}')"
   ],
   "outputs": [
    {
     "output_type": "error",
     "ename": "NameError",
     "evalue": "name 'getsum' is not defined",
     "traceback": [
      "\u001b[1;31m---------------------------------------------------------------------------\u001b[0m",
      "\u001b[1;31mNameError\u001b[0m                                 Traceback (most recent call last)",
      "\u001b[1;32m~\\AppData\\Local\\Temp/ipykernel_5388/3616116631.py\u001b[0m in \u001b[0;36m<module>\u001b[1;34m\u001b[0m\n\u001b[0;32m      1\u001b[0m \u001b[1;31m#16\u001b[0m\u001b[1;33m\u001b[0m\u001b[1;33m\u001b[0m\u001b[1;33m\u001b[0m\u001b[0m\n\u001b[0;32m      2\u001b[0m \u001b[1;33m\u001b[0m\u001b[0m\n\u001b[1;32m----> 3\u001b[1;33m \u001b[0mgetsum\u001b[0m\u001b[1;33m(\u001b[0m\u001b[1;36m11\u001b[0m\u001b[1;33m,\u001b[0m\u001b[1;36m10\u001b[0m\u001b[1;33m)\u001b[0m\u001b[1;33m\u001b[0m\u001b[1;33m\u001b[0m\u001b[0m\n\u001b[0m\u001b[0;32m      4\u001b[0m \u001b[1;32mdef\u001b[0m \u001b[0mgetsum\u001b[0m\u001b[1;33m(\u001b[0m\u001b[0mx\u001b[0m\u001b[1;33m,\u001b[0m \u001b[0my\u001b[0m\u001b[1;33m)\u001b[0m\u001b[1;33m:\u001b[0m\u001b[1;33m\u001b[0m\u001b[1;33m\u001b[0m\u001b[0m\n\u001b[0;32m      5\u001b[0m     \u001b[0mprint\u001b[0m\u001b[1;33m(\u001b[0m\u001b[1;34mf'{x+y}'\u001b[0m\u001b[1;33m)\u001b[0m\u001b[1;33m\u001b[0m\u001b[1;33m\u001b[0m\u001b[0m\n",
      "\u001b[1;31mNameError\u001b[0m: name 'getsum' is not defined"
     ]
    }
   ],
   "metadata": {}
  },
  {
   "cell_type": "code",
   "execution_count": 69,
   "source": [
    "#17\r\n",
    "\r\n",
    "list_1 = [5, 10, 20, 30, 45, 55, 60, 70, 80, 90, 100]\r\n",
    "\r\n",
    "def filter_list(list_to_filter, value):\r\n",
    "    result_list = []\r\n",
    "    for number in list_to_filter:\r\n",
    "        if number % value == 0:\r\n",
    "            result_list.append(number)\r\n",
    "    return result_list\r\n",
    "print(filter_list(list_1, 20))"
   ],
   "outputs": [
    {
     "output_type": "stream",
     "name": "stdout",
     "text": [
      "[20, 60, 80, 100]\n"
     ]
    }
   ],
   "metadata": {}
  }
 ],
 "metadata": {
  "orig_nbformat": 4,
  "language_info": {
   "name": "python",
   "version": "3.9.6",
   "mimetype": "text/x-python",
   "codemirror_mode": {
    "name": "ipython",
    "version": 3
   },
   "pygments_lexer": "ipython3",
   "nbconvert_exporter": "python",
   "file_extension": ".py"
  },
  "kernelspec": {
   "name": "python3",
   "display_name": "Python 3.9.6 64-bit"
  },
  "interpreter": {
   "hash": "929f58cf3c77b07830db0283be99f3582f8b4e8177e0db23394fee7c52770363"
  }
 },
 "nbformat": 4,
 "nbformat_minor": 2
}